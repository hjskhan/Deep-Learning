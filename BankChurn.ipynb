{
 "cells": [
  {
   "cell_type": "code",
   "execution_count": 98,
   "id": "77a1dd61",
   "metadata": {},
   "outputs": [],
   "source": [
    "import pandas as pd\n",
    "import numpy as np\n",
    "import keras\n",
    "import tensorflow as tf\n",
    "import matplotlib.pyplot as plt\n",
    "import seaborn as sns"
   ]
  },
  {
   "cell_type": "code",
   "execution_count": 99,
   "id": "35dbe48e",
   "metadata": {},
   "outputs": [
    {
     "name": "stdout",
     "output_type": "stream",
     "text": [
      "(8000, 9) (2000, 9)\n"
     ]
    }
   ],
   "source": [
    "data = pd.read_csv('Churn Modeling.csv')\n",
    "data.drop(columns=['Surname','RowNumber','CustomerId','Geography','Gender'],inplace=True)\n",
    "\n",
    "train = data.sample(frac=0.8, random_state=1)\n",
    "test = data.drop(train.index)\n",
    "print(train.shape, test.shape)\n",
    "#Train\n",
    "train['Age'] = np.log(train['Age'])\n",
    "Y_train = train['Exited']\n",
    "X_train = train.drop('Exited',axis=1)\n",
    "col = X_train.columns\n",
    "from sklearn.preprocessing import StandardScaler\n",
    "scaler = StandardScaler()\n",
    "X_train = pd.DataFrame(scaler.fit_transform(X_train),columns=X_train.columns)\n",
    "#Test\n",
    "test['Age'] = np.log(test['Age'])\n",
    "Y_test = test['Exited']\n",
    "X_test = test.drop('Exited',axis=1)\n",
    "col = X_test.columns\n",
    "X_test = pd.DataFrame(scaler.fit_transform(X_test),columns=X_test.columns)"
   ]
  },
  {
   "cell_type": "code",
   "execution_count": 111,
   "id": "9b9cbd7f",
   "metadata": {
    "collapsed": true
   },
   "outputs": [
    {
     "name": "stdout",
     "output_type": "stream",
     "text": [
      "Epoch 1/10\n",
      "640/640 [==============================] - 2s 2ms/step - loss: 0.5019 - accuracy: 0.7897 - val_loss: 0.4649 - val_accuracy: 0.8075\n",
      "Epoch 2/10\n",
      "640/640 [==============================] - 1s 2ms/step - loss: 0.4482 - accuracy: 0.8078 - val_loss: 0.4365 - val_accuracy: 0.8206\n",
      "Epoch 3/10\n",
      "640/640 [==============================] - 1s 2ms/step - loss: 0.4256 - accuracy: 0.8180 - val_loss: 0.4206 - val_accuracy: 0.8269\n",
      "Epoch 4/10\n",
      "640/640 [==============================] - 1s 2ms/step - loss: 0.4054 - accuracy: 0.8334 - val_loss: 0.4069 - val_accuracy: 0.8244\n",
      "Epoch 5/10\n",
      "640/640 [==============================] - 1s 2ms/step - loss: 0.3862 - accuracy: 0.8477 - val_loss: 0.3975 - val_accuracy: 0.8331\n",
      "Epoch 6/10\n",
      "640/640 [==============================] - 1s 2ms/step - loss: 0.3735 - accuracy: 0.8511 - val_loss: 0.3855 - val_accuracy: 0.8413\n",
      "Epoch 7/10\n",
      "640/640 [==============================] - 1s 2ms/step - loss: 0.3670 - accuracy: 0.8541 - val_loss: 0.3797 - val_accuracy: 0.8475\n",
      "Epoch 8/10\n",
      "640/640 [==============================] - 1s 2ms/step - loss: 0.3630 - accuracy: 0.8545 - val_loss: 0.3800 - val_accuracy: 0.8425\n",
      "Epoch 9/10\n",
      "640/640 [==============================] - 1s 2ms/step - loss: 0.3602 - accuracy: 0.8567 - val_loss: 0.3757 - val_accuracy: 0.8444\n",
      "Epoch 10/10\n",
      "640/640 [==============================] - 1s 2ms/step - loss: 0.3581 - accuracy: 0.8577 - val_loss: 0.3754 - val_accuracy: 0.8450\n"
     ]
    }
   ],
   "source": [
    "import keras\n",
    "from keras.models import Sequential\n",
    "from keras.layers import Dense,Dropout\n",
    "\n",
    "classifier = Sequential()\n",
    "\n",
    "classifier.add(Dense(units=10,activation='relu',kernel_initializer='he_normal',input_dim=8))\n",
    "classifier.add(Dense(units=20,activation='relu',kernel_initializer='he_normal'))\n",
    "classifier.add(Dense(units=1,activation='sigmoid',kernel_initializer='glorot_uniform'))\n",
    "\n",
    "classifier.compile(optimizer='adam',loss= 'binary_crossentropy',metrics=['accuracy'])\n",
    "model = classifier.fit(X_train,Y_train,validation_split=0.2,batch_size=10,epochs=10)"
   ]
  },
  {
   "cell_type": "code",
   "execution_count": 115,
   "id": "869dcddf",
   "metadata": {},
   "outputs": [
    {
     "name": "stdout",
     "output_type": "stream",
     "text": [
      "63/63 [==============================] - 0s 1ms/step\n",
      "[[1556   46]\n",
      " [ 240  158]]\n",
      "0.857\n"
     ]
    }
   ],
   "source": [
    "# Predict\n",
    "Y_pred = classifier.predict(X_test)\n",
    "Y_pred = (Y_pred>0.5)\n",
    "#Confusion Matrix\n",
    "from sklearn.metrics import confusion_matrix,accuracy_score\n",
    "print(confusion_matrix(Y_test,Y_pred))\n",
    "print(accuracy_score(Y_pred,Y_test))"
   ]
  },
  {
   "cell_type": "code",
   "execution_count": null,
   "id": "9ab37cff",
   "metadata": {},
   "outputs": [],
   "source": []
  }
 ],
 "metadata": {
  "kernelspec": {
   "display_name": "Python 3 (ipykernel)",
   "language": "python",
   "name": "python3"
  },
  "language_info": {
   "codemirror_mode": {
    "name": "ipython",
    "version": 3
   },
   "file_extension": ".py",
   "mimetype": "text/x-python",
   "name": "python",
   "nbconvert_exporter": "python",
   "pygments_lexer": "ipython3",
   "version": "3.9.12"
  }
 },
 "nbformat": 4,
 "nbformat_minor": 5
}
